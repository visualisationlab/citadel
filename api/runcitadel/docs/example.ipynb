{
    "cells": [
        {
            "cell_type": "markdown",
            "metadata": {},
            "source": [
                "# Example usage\n",
                "\n",
                "To use `runcitadel` in a project:"
            ]
        },
        {
            "cell_type": "code",
            "execution_count": null,
            "metadata": {},
            "outputs": [],
            "source": [
                "import runcitadel\n",
                "\n",
                "print(runcitadel.__version__)"
            ]
        },
        {
            "cell_type": "code",
            "execution_count": null,
            "metadata": {},
            "outputs": [],
            "source": [
                "# Please note Citadel simulate functions do NOT support global variables.\n",
                "# Therefore, you must pass all variables as parameters to the function.\n",
                "\n",
                "# The following code will not work:\n",
                "x = 3\n",
                "\n",
                "def a():\n",
                "    return x\n",
                "\n",
                "# The following code will work:\n",
                "\n",
                "def a(x):\n",
                "    return x"
            ]
        },
        {
            "cell_type": "code",
            "execution_count": null,
            "metadata": {},
            "outputs": [],
            "source": [
                "# To cancel the simulation in case of an error, use the terminate() function.\n",
                "\n",
                "def run_with_error(connection, nodes, edges, params):\n",
                "    if (nodes.length < 10):\n",
                "        return runcitadel.terminate(connection, \"Not enough nodes\")\n",
                "    \n",
                "    # ... etc\n"
            ]
        },
        {
            "cell_type": "code",
            "execution_count": null,
            "metadata": {},
            "outputs": [],
            "source": [
                "# To cancel the simulation in case of model finalization, use the finalize() function.\n",
                "\n",
                "def run_with_finalize(connection, nodes, edges, params):\n",
                "    if (nodes.length < 10):\n",
                "        return runcitadel.finalize(connection, \"Not enough nodes\")\n",
                "    \n",
                "    # ... etc\n"
            ]
        },
        {
            "cell_type": "code",
            "execution_count": null,
            "metadata": {},
            "outputs": [],
            "source": [
                "# To send a message to the user, use the send_message() function. It takes log levels 'log' or 'warning'.\n",
                "\n",
                "def run_with_send(connection, nodes, edges, params):\n",
                "    runcitadel.send_message(connection, \"This is a log message\", \"log\")\n",
                "    runcitadel.send_message(connection, \"This is a warning message\", \"warning\")\n",
                "    \n",
                "    # ... etc\n"
            ]
        }
    ],
    "metadata": {
        "kernelspec": {
            "display_name": "Python 3",
            "language": "python",
            "name": "python3"
        },
        "language_info": {
            "codemirror_mode": {
                "name": "ipython",
                "version": 3
            },
            "file_extension": ".py",
            "mimetype": "text/x-python",
            "name": "python",
            "nbconvert_exporter": "python",
            "pygments_lexer": "ipython3",
            "version": "3.8.5"
        }
    },
    "nbformat": 4,
    "nbformat_minor": 4
}
